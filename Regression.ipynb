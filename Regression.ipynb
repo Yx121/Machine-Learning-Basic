{
  "nbformat": 4,
  "nbformat_minor": 0,
  "metadata": {
    "colab": {
      "name": "Regression.ipynb",
      "provenance": [],
      "collapsed_sections": [],
      "authorship_tag": "ABX9TyOlXTRnSeLa1f67KeBBwUPh",
      "include_colab_link": true
    },
    "kernelspec": {
      "name": "python3",
      "display_name": "Python 3"
    },
    "language_info": {
      "name": "python"
    }
  },
  "cells": [
    {
      "cell_type": "markdown",
      "metadata": {
        "id": "view-in-github",
        "colab_type": "text"
      },
      "source": [
        "<a href=\"https://colab.research.google.com/github/Yx121/Machine-Learning-Basic/blob/main/Regression.ipynb\" target=\"_parent\"><img src=\"https://colab.research.google.com/assets/colab-badge.svg\" alt=\"Open In Colab\"/></a>"
      ]
    },
    {
      "cell_type": "code",
      "metadata": {
        "id": "8v1t5oROS9hv"
      },
      "source": [
        "# The dataset contains 20640 samples. Each sample with 8 numeric, predictive attributes and the target value.\n",
        "# The attributes are:\n",
        "\n",
        "# MedInc: median income in block\n",
        "# HouseAge: median house age in block\n",
        "# AveRooms: average number of rooms\n",
        "# AveBedrms: average number of bedrooms\n",
        "# Population: block population\n",
        "# AveOccup: average house occupancy\n",
        "# Latitude: house block latitude\n",
        "# Longitude: house block longitude\n",
        "\n",
        "from sklearn.datasets import fetch_california_housing\n",
        "dataset = fetch_california_housing()"
      ],
      "execution_count": 1,
      "outputs": []
    },
    {
      "cell_type": "code",
      "metadata": {
        "colab": {
          "base_uri": "https://localhost:8080/"
        },
        "id": "fJQevunPn0zX",
        "outputId": "55b06ad0-2b61-44c2-cc0b-e50ec731a09b"
      },
      "source": [
        "# Let us look at the feauture names:\n",
        "feature_names = dataset['feature_names']\n",
        "print(\"Feature names: {}\\n\".format(feature_names))"
      ],
      "execution_count": 2,
      "outputs": [
        {
          "output_type": "stream",
          "name": "stdout",
          "text": [
            "Feature names: ['MedInc', 'HouseAge', 'AveRooms', 'AveBedrms', 'Population', 'AveOccup', 'Latitude', 'Longitude']\n",
            "\n"
          ]
        }
      ]
    },
    {
      "cell_type": "code",
      "metadata": {
        "colab": {
          "base_uri": "https://localhost:8080/"
        },
        "id": "f7SZPlHuKvBC",
        "outputId": "9b8fad76-ffb7-4519-8c9c-8b650deb3ec3"
      },
      "source": [
        "# Each line contains eight float values, which correspond to the features:\n",
        "print(\"number of samples in the file (number of rows): \", dataset.data.shape[0])\n",
        "print(\"number of features per row (columns): \", dataset.data.shape[1])\n",
        "dataset.data[:4]"
      ],
      "execution_count": 3,
      "outputs": [
        {
          "output_type": "stream",
          "name": "stdout",
          "text": [
            "number of samples in the file (number of rows):  20640\n",
            "number of features per row (columns):  8\n"
          ]
        },
        {
          "output_type": "execute_result",
          "data": {
            "text/plain": [
              "array([[ 8.32520000e+00,  4.10000000e+01,  6.98412698e+00,\n",
              "         1.02380952e+00,  3.22000000e+02,  2.55555556e+00,\n",
              "         3.78800000e+01, -1.22230000e+02],\n",
              "       [ 8.30140000e+00,  2.10000000e+01,  6.23813708e+00,\n",
              "         9.71880492e-01,  2.40100000e+03,  2.10984183e+00,\n",
              "         3.78600000e+01, -1.22220000e+02],\n",
              "       [ 7.25740000e+00,  5.20000000e+01,  8.28813559e+00,\n",
              "         1.07344633e+00,  4.96000000e+02,  2.80225989e+00,\n",
              "         3.78500000e+01, -1.22240000e+02],\n",
              "       [ 5.64310000e+00,  5.20000000e+01,  5.81735160e+00,\n",
              "         1.07305936e+00,  5.58000000e+02,  2.54794521e+00,\n",
              "         3.78500000e+01, -1.22250000e+02]])"
            ]
          },
          "metadata": {},
          "execution_count": 3
        }
      ]
    },
    {
      "cell_type": "code",
      "metadata": {
        "id": "_ebbkyfFLEku",
        "colab": {
          "base_uri": "https://localhost:8080/"
        },
        "outputId": "523e8329-4f21-4043-c138-b35928118ccb"
      },
      "source": [
        "# filter the data by looking at the blocks with an avarage age less than 10 years:\n",
        "n = 10\n",
        "dataset.data[dataset.data[:, 1] < n]"
      ],
      "execution_count": 4,
      "outputs": [
        {
          "output_type": "execute_result",
          "data": {
            "text/plain": [
              "array([[   2.5625    ,    2.        ,    2.77192982, ...,    1.64912281,\n",
              "          37.82      , -122.29      ],\n",
              "       [   7.611     ,    5.        ,    6.85577631, ...,    2.73252391,\n",
              "          37.72      , -122.24      ],\n",
              "       [   7.0568    ,    5.        ,    7.0234375 , ...,    3.39453125,\n",
              "          37.73      , -122.06      ],\n",
              "       ...,\n",
              "       [   3.4186    ,    6.        ,    5.66256158, ...,    3.15394089,\n",
              "          38.53      , -121.99      ],\n",
              "       [   2.0474    ,    5.        ,    4.37813212, ...,    2.13667426,\n",
              "          39.15      , -121.59      ],\n",
              "       [   3.        ,    5.        ,    6.06779661, ...,    2.86440678,\n",
              "          39.13      , -121.32      ]])"
            ]
          },
          "metadata": {},
          "execution_count": 4
        }
      ]
    },
    {
      "cell_type": "code",
      "metadata": {
        "colab": {
          "base_uri": "https://localhost:8080/"
        },
        "id": "XkWj79WfqCIg",
        "outputId": "4d16e6a4-f387-4f6a-cc94-cee781560246"
      },
      "source": [
        "# The target variable is the median house value for California districts:\n",
        "dataset.target"
      ],
      "execution_count": 5,
      "outputs": [
        {
          "output_type": "execute_result",
          "data": {
            "text/plain": [
              "array([4.526, 3.585, 3.521, ..., 0.923, 0.847, 0.894])"
            ]
          },
          "metadata": {},
          "execution_count": 5
        }
      ]
    },
    {
      "cell_type": "markdown",
      "metadata": {
        "id": "YgZBFO8gqV57"
      },
      "source": [
        "**Visualizing the Data**"
      ]
    },
    {
      "cell_type": "code",
      "metadata": {
        "colab": {
          "base_uri": "https://localhost:8080/",
          "height": 206
        },
        "id": "jG582KyeqEuo",
        "outputId": "5a939c35-c119-4500-e157-4cb224558ccd"
      },
      "source": [
        "# turn data into a pandas DataFrane for better view\n",
        "import pandas as pd\n",
        "data_df = pd.DataFrame(dataset.data, columns=[\"MedInc\", \"HouseAge\", \"AveRooms\", \n",
        "                   \"AveBedrms\", \"Population\", \"AveOccup\", \n",
        "                   \"Latitude\", \"Longitude\"])\n",
        "data_df.head(5)"
      ],
      "execution_count": 6,
      "outputs": [
        {
          "output_type": "execute_result",
          "data": {
            "text/html": [
              "<div>\n",
              "<style scoped>\n",
              "    .dataframe tbody tr th:only-of-type {\n",
              "        vertical-align: middle;\n",
              "    }\n",
              "\n",
              "    .dataframe tbody tr th {\n",
              "        vertical-align: top;\n",
              "    }\n",
              "\n",
              "    .dataframe thead th {\n",
              "        text-align: right;\n",
              "    }\n",
              "</style>\n",
              "<table border=\"1\" class=\"dataframe\">\n",
              "  <thead>\n",
              "    <tr style=\"text-align: right;\">\n",
              "      <th></th>\n",
              "      <th>MedInc</th>\n",
              "      <th>HouseAge</th>\n",
              "      <th>AveRooms</th>\n",
              "      <th>AveBedrms</th>\n",
              "      <th>Population</th>\n",
              "      <th>AveOccup</th>\n",
              "      <th>Latitude</th>\n",
              "      <th>Longitude</th>\n",
              "    </tr>\n",
              "  </thead>\n",
              "  <tbody>\n",
              "    <tr>\n",
              "      <th>0</th>\n",
              "      <td>8.3252</td>\n",
              "      <td>41.0</td>\n",
              "      <td>6.984127</td>\n",
              "      <td>1.023810</td>\n",
              "      <td>322.0</td>\n",
              "      <td>2.555556</td>\n",
              "      <td>37.88</td>\n",
              "      <td>-122.23</td>\n",
              "    </tr>\n",
              "    <tr>\n",
              "      <th>1</th>\n",
              "      <td>8.3014</td>\n",
              "      <td>21.0</td>\n",
              "      <td>6.238137</td>\n",
              "      <td>0.971880</td>\n",
              "      <td>2401.0</td>\n",
              "      <td>2.109842</td>\n",
              "      <td>37.86</td>\n",
              "      <td>-122.22</td>\n",
              "    </tr>\n",
              "    <tr>\n",
              "      <th>2</th>\n",
              "      <td>7.2574</td>\n",
              "      <td>52.0</td>\n",
              "      <td>8.288136</td>\n",
              "      <td>1.073446</td>\n",
              "      <td>496.0</td>\n",
              "      <td>2.802260</td>\n",
              "      <td>37.85</td>\n",
              "      <td>-122.24</td>\n",
              "    </tr>\n",
              "    <tr>\n",
              "      <th>3</th>\n",
              "      <td>5.6431</td>\n",
              "      <td>52.0</td>\n",
              "      <td>5.817352</td>\n",
              "      <td>1.073059</td>\n",
              "      <td>558.0</td>\n",
              "      <td>2.547945</td>\n",
              "      <td>37.85</td>\n",
              "      <td>-122.25</td>\n",
              "    </tr>\n",
              "    <tr>\n",
              "      <th>4</th>\n",
              "      <td>3.8462</td>\n",
              "      <td>52.0</td>\n",
              "      <td>6.281853</td>\n",
              "      <td>1.081081</td>\n",
              "      <td>565.0</td>\n",
              "      <td>2.181467</td>\n",
              "      <td>37.85</td>\n",
              "      <td>-122.25</td>\n",
              "    </tr>\n",
              "  </tbody>\n",
              "</table>\n",
              "</div>"
            ],
            "text/plain": [
              "   MedInc  HouseAge  AveRooms  ...  AveOccup  Latitude  Longitude\n",
              "0  8.3252      41.0  6.984127  ...  2.555556     37.88    -122.23\n",
              "1  8.3014      21.0  6.238137  ...  2.109842     37.86    -122.22\n",
              "2  7.2574      52.0  8.288136  ...  2.802260     37.85    -122.24\n",
              "3  5.6431      52.0  5.817352  ...  2.547945     37.85    -122.25\n",
              "4  3.8462      52.0  6.281853  ...  2.181467     37.85    -122.25\n",
              "\n",
              "[5 rows x 8 columns]"
            ]
          },
          "metadata": {},
          "execution_count": 6
        }
      ]
    },
    {
      "cell_type": "code",
      "metadata": {
        "colab": {
          "base_uri": "https://localhost:8080/",
          "height": 206
        },
        "id": "927SDbCpqoOi",
        "outputId": "5760f4d9-9d9c-47a0-9320-7a21c55b3f32"
      },
      "source": [
        "# now insert the average house value to our DataFrame:\n",
        "data_df.insert(loc=len(data_df.columns), column='AvePropVal', value=dataset.target.reshape(-1,1))\n",
        "# the reshape here turn a (20640,) to (20640, 1)\n",
        "data_df.head()"
      ],
      "execution_count": 7,
      "outputs": [
        {
          "output_type": "execute_result",
          "data": {
            "text/html": [
              "<div>\n",
              "<style scoped>\n",
              "    .dataframe tbody tr th:only-of-type {\n",
              "        vertical-align: middle;\n",
              "    }\n",
              "\n",
              "    .dataframe tbody tr th {\n",
              "        vertical-align: top;\n",
              "    }\n",
              "\n",
              "    .dataframe thead th {\n",
              "        text-align: right;\n",
              "    }\n",
              "</style>\n",
              "<table border=\"1\" class=\"dataframe\">\n",
              "  <thead>\n",
              "    <tr style=\"text-align: right;\">\n",
              "      <th></th>\n",
              "      <th>MedInc</th>\n",
              "      <th>HouseAge</th>\n",
              "      <th>AveRooms</th>\n",
              "      <th>AveBedrms</th>\n",
              "      <th>Population</th>\n",
              "      <th>AveOccup</th>\n",
              "      <th>Latitude</th>\n",
              "      <th>Longitude</th>\n",
              "      <th>AvePropVal</th>\n",
              "    </tr>\n",
              "  </thead>\n",
              "  <tbody>\n",
              "    <tr>\n",
              "      <th>0</th>\n",
              "      <td>8.3252</td>\n",
              "      <td>41.0</td>\n",
              "      <td>6.984127</td>\n",
              "      <td>1.023810</td>\n",
              "      <td>322.0</td>\n",
              "      <td>2.555556</td>\n",
              "      <td>37.88</td>\n",
              "      <td>-122.23</td>\n",
              "      <td>4.526</td>\n",
              "    </tr>\n",
              "    <tr>\n",
              "      <th>1</th>\n",
              "      <td>8.3014</td>\n",
              "      <td>21.0</td>\n",
              "      <td>6.238137</td>\n",
              "      <td>0.971880</td>\n",
              "      <td>2401.0</td>\n",
              "      <td>2.109842</td>\n",
              "      <td>37.86</td>\n",
              "      <td>-122.22</td>\n",
              "      <td>3.585</td>\n",
              "    </tr>\n",
              "    <tr>\n",
              "      <th>2</th>\n",
              "      <td>7.2574</td>\n",
              "      <td>52.0</td>\n",
              "      <td>8.288136</td>\n",
              "      <td>1.073446</td>\n",
              "      <td>496.0</td>\n",
              "      <td>2.802260</td>\n",
              "      <td>37.85</td>\n",
              "      <td>-122.24</td>\n",
              "      <td>3.521</td>\n",
              "    </tr>\n",
              "    <tr>\n",
              "      <th>3</th>\n",
              "      <td>5.6431</td>\n",
              "      <td>52.0</td>\n",
              "      <td>5.817352</td>\n",
              "      <td>1.073059</td>\n",
              "      <td>558.0</td>\n",
              "      <td>2.547945</td>\n",
              "      <td>37.85</td>\n",
              "      <td>-122.25</td>\n",
              "      <td>3.413</td>\n",
              "    </tr>\n",
              "    <tr>\n",
              "      <th>4</th>\n",
              "      <td>3.8462</td>\n",
              "      <td>52.0</td>\n",
              "      <td>6.281853</td>\n",
              "      <td>1.081081</td>\n",
              "      <td>565.0</td>\n",
              "      <td>2.181467</td>\n",
              "      <td>37.85</td>\n",
              "      <td>-122.25</td>\n",
              "      <td>3.422</td>\n",
              "    </tr>\n",
              "  </tbody>\n",
              "</table>\n",
              "</div>"
            ],
            "text/plain": [
              "   MedInc  HouseAge  AveRooms  ...  Latitude  Longitude  AvePropVal\n",
              "0  8.3252      41.0  6.984127  ...     37.88    -122.23       4.526\n",
              "1  8.3014      21.0  6.238137  ...     37.86    -122.22       3.585\n",
              "2  7.2574      52.0  8.288136  ...     37.85    -122.24       3.521\n",
              "3  5.6431      52.0  5.817352  ...     37.85    -122.25       3.413\n",
              "4  3.8462      52.0  6.281853  ...     37.85    -122.25       3.422\n",
              "\n",
              "[5 rows x 9 columns]"
            ]
          },
          "metadata": {},
          "execution_count": 7
        }
      ]
    },
    {
      "cell_type": "code",
      "metadata": {
        "colab": {
          "base_uri": "https://localhost:8080/",
          "height": 112
        },
        "id": "YO3HVVAxqLnK",
        "outputId": "3e1baaad-7121-4fe5-f3f7-37b31a1c6555"
      },
      "source": [
        "# There are blocks where the average number of rooms is more than a hundred\n",
        "data_df[data_df.AveRooms>100]"
      ],
      "execution_count": 8,
      "outputs": [
        {
          "output_type": "execute_result",
          "data": {
            "text/html": [
              "<div>\n",
              "<style scoped>\n",
              "    .dataframe tbody tr th:only-of-type {\n",
              "        vertical-align: middle;\n",
              "    }\n",
              "\n",
              "    .dataframe tbody tr th {\n",
              "        vertical-align: top;\n",
              "    }\n",
              "\n",
              "    .dataframe thead th {\n",
              "        text-align: right;\n",
              "    }\n",
              "</style>\n",
              "<table border=\"1\" class=\"dataframe\">\n",
              "  <thead>\n",
              "    <tr style=\"text-align: right;\">\n",
              "      <th></th>\n",
              "      <th>MedInc</th>\n",
              "      <th>HouseAge</th>\n",
              "      <th>AveRooms</th>\n",
              "      <th>AveBedrms</th>\n",
              "      <th>Population</th>\n",
              "      <th>AveOccup</th>\n",
              "      <th>Latitude</th>\n",
              "      <th>Longitude</th>\n",
              "      <th>AvePropVal</th>\n",
              "    </tr>\n",
              "  </thead>\n",
              "  <tbody>\n",
              "    <tr>\n",
              "      <th>1914</th>\n",
              "      <td>1.875</td>\n",
              "      <td>33.0</td>\n",
              "      <td>141.909091</td>\n",
              "      <td>25.636364</td>\n",
              "      <td>30.0</td>\n",
              "      <td>2.727273</td>\n",
              "      <td>38.91</td>\n",
              "      <td>-120.10</td>\n",
              "      <td>5.00001</td>\n",
              "    </tr>\n",
              "    <tr>\n",
              "      <th>1979</th>\n",
              "      <td>4.625</td>\n",
              "      <td>34.0</td>\n",
              "      <td>132.533333</td>\n",
              "      <td>34.066667</td>\n",
              "      <td>36.0</td>\n",
              "      <td>2.400000</td>\n",
              "      <td>38.80</td>\n",
              "      <td>-120.08</td>\n",
              "      <td>1.62500</td>\n",
              "    </tr>\n",
              "  </tbody>\n",
              "</table>\n",
              "</div>"
            ],
            "text/plain": [
              "      MedInc  HouseAge    AveRooms  ...  Latitude  Longitude  AvePropVal\n",
              "1914   1.875      33.0  141.909091  ...     38.91    -120.10     5.00001\n",
              "1979   4.625      34.0  132.533333  ...     38.80    -120.08     1.62500\n",
              "\n",
              "[2 rows x 9 columns]"
            ]
          },
          "metadata": {},
          "execution_count": 8
        }
      ]
    },
    {
      "cell_type": "markdown",
      "metadata": {
        "id": "l0jddZFfPTQZ"
      },
      "source": [
        "we assume that the samples where the average number of rooms are larger than 11 must be rubbish. Those will be removed."
      ]
    },
    {
      "cell_type": "code",
      "metadata": {
        "colab": {
          "base_uri": "https://localhost:8080/"
        },
        "id": "K74foZO2PmVU",
        "outputId": "95247288-1a6a-4bfb-d9ca-9c439f7eb07f"
      },
      "source": [
        "no_of_districts_b4_cleansing = len(data_df)\n",
        "data_df = data_df[data_df.AveRooms < 12]\n",
        "\n",
        "print(no_of_districts_b4_cleansing)\n",
        "print()\n",
        "print('number of removed samples: ', no_of_districts_b4_cleansing - len(data_df))\n",
        "print()\n",
        "data_df.head"
      ],
      "execution_count": 9,
      "outputs": [
        {
          "output_type": "stream",
          "name": "stdout",
          "text": [
            "20640\n",
            "\n",
            "number of removed samples:  145\n",
            "\n"
          ]
        },
        {
          "output_type": "execute_result",
          "data": {
            "text/plain": [
              "<bound method NDFrame.head of        MedInc  HouseAge  AveRooms  ...  Latitude  Longitude  AvePropVal\n",
              "0      8.3252      41.0  6.984127  ...     37.88    -122.23       4.526\n",
              "1      8.3014      21.0  6.238137  ...     37.86    -122.22       3.585\n",
              "2      7.2574      52.0  8.288136  ...     37.85    -122.24       3.521\n",
              "3      5.6431      52.0  5.817352  ...     37.85    -122.25       3.413\n",
              "4      3.8462      52.0  6.281853  ...     37.85    -122.25       3.422\n",
              "...       ...       ...       ...  ...       ...        ...         ...\n",
              "20635  1.5603      25.0  5.045455  ...     39.48    -121.09       0.781\n",
              "20636  2.5568      18.0  6.114035  ...     39.49    -121.21       0.771\n",
              "20637  1.7000      17.0  5.205543  ...     39.43    -121.22       0.923\n",
              "20638  1.8672      18.0  5.329513  ...     39.43    -121.32       0.847\n",
              "20639  2.3886      16.0  5.254717  ...     39.37    -121.24       0.894\n",
              "\n",
              "[20495 rows x 9 columns]>"
            ]
          },
          "metadata": {},
          "execution_count": 9
        }
      ]
    },
    {
      "cell_type": "code",
      "metadata": {
        "colab": {
          "base_uri": "https://localhost:8080/",
          "height": 282
        },
        "id": "IdAad0TmqLtR",
        "outputId": "08d932d4-9709-4b96-b32b-23cd4565569f"
      },
      "source": [
        "# historgram of cleansed data\n",
        "data_df.AveRooms.hist()"
      ],
      "execution_count": 10,
      "outputs": [
        {
          "output_type": "execute_result",
          "data": {
            "text/plain": [
              "<matplotlib.axes._subplots.AxesSubplot at 0x7fe9f91d1850>"
            ]
          },
          "metadata": {},
          "execution_count": 10
        },
        {
          "output_type": "display_data",
          "data": {
            "image/png": "[encoded data removed]",
            "text/plain": [
              "<Figure size 432x288 with 1 Axes>"
            ]
          },
          "metadata": {
            "needs_background": "light"
          }
        }
      ]
    },
    {
      "cell_type": "markdown",
      "metadata": {
        "id": "n7QsrQ4TTZFJ"
      },
      "source": [
        "similar reasoning for the number of people living in a house. Check the number of districts, where the AveOccup is greater than 13:"
      ]
    },
    {
      "cell_type": "code",
      "metadata": {
        "colab": {
          "base_uri": "https://localhost:8080/",
          "height": 739
        },
        "id": "5rmygOE0qLwK",
        "outputId": "c73063f6-91b9-4f1f-ce5f-11ec4ef9ea4b"
      },
      "source": [
        "data_df[data_df.AveOccup > 13]"
      ],
      "execution_count": 11,
      "outputs": [
        {
          "output_type": "execute_result",
          "data": {
            "text/html": [
              "<div>\n",
              "<style scoped>\n",
              "    .dataframe tbody tr th:only-of-type {\n",
              "        vertical-align: middle;\n",
              "    }\n",
              "\n",
              "    .dataframe tbody tr th {\n",
              "        vertical-align: top;\n",
              "    }\n",
              "\n",
              "    .dataframe thead th {\n",
              "        text-align: right;\n",
              "    }\n",
              "</style>\n",
              "<table border=\"1\" class=\"dataframe\">\n",
              "  <thead>\n",
              "    <tr style=\"text-align: right;\">\n",
              "      <th></th>\n",
              "      <th>MedInc</th>\n",
              "      <th>HouseAge</th>\n",
              "      <th>AveRooms</th>\n",
              "      <th>AveBedrms</th>\n",
              "      <th>Population</th>\n",
              "      <th>AveOccup</th>\n",
              "      <th>Latitude</th>\n",
              "      <th>Longitude</th>\n",
              "      <th>AvePropVal</th>\n",
              "    </tr>\n",
              "  </thead>\n",
              "  <tbody>\n",
              "    <tr>\n",
              "      <th>1039</th>\n",
              "      <td>4.3029</td>\n",
              "      <td>16.0</td>\n",
              "      <td>6.090592</td>\n",
              "      <td>1.121951</td>\n",
              "      <td>4930.0</td>\n",
              "      <td>17.177700</td>\n",
              "      <td>38.42</td>\n",
              "      <td>-120.97</td>\n",
              "      <td>1.21900</td>\n",
              "    </tr>\n",
              "    <tr>\n",
              "      <th>3364</th>\n",
              "      <td>5.5179</td>\n",
              "      <td>36.0</td>\n",
              "      <td>5.142857</td>\n",
              "      <td>1.142857</td>\n",
              "      <td>4198.0</td>\n",
              "      <td>599.714286</td>\n",
              "      <td>40.41</td>\n",
              "      <td>-120.51</td>\n",
              "      <td>0.67500</td>\n",
              "    </tr>\n",
              "    <tr>\n",
              "      <th>4479</th>\n",
              "      <td>3.5769</td>\n",
              "      <td>41.0</td>\n",
              "      <td>4.940000</td>\n",
              "      <td>1.100000</td>\n",
              "      <td>925.0</td>\n",
              "      <td>18.500000</td>\n",
              "      <td>34.07</td>\n",
              "      <td>-118.16</td>\n",
              "      <td>1.35700</td>\n",
              "    </tr>\n",
              "    <tr>\n",
              "      <th>5986</th>\n",
              "      <td>1.8750</td>\n",
              "      <td>52.0</td>\n",
              "      <td>4.500000</td>\n",
              "      <td>1.206349</td>\n",
              "      <td>2688.0</td>\n",
              "      <td>21.333333</td>\n",
              "      <td>34.10</td>\n",
              "      <td>-117.71</td>\n",
              "      <td>2.12500</td>\n",
              "    </tr>\n",
              "    <tr>\n",
              "      <th>7164</th>\n",
              "      <td>2.1845</td>\n",
              "      <td>36.0</td>\n",
              "      <td>4.812155</td>\n",
              "      <td>1.110497</td>\n",
              "      <td>2862.0</td>\n",
              "      <td>15.812155</td>\n",
              "      <td>34.06</td>\n",
              "      <td>-118.17</td>\n",
              "      <td>1.23800</td>\n",
              "    </tr>\n",
              "    <tr>\n",
              "      <th>8874</th>\n",
              "      <td>9.3370</td>\n",
              "      <td>52.0</td>\n",
              "      <td>7.285714</td>\n",
              "      <td>1.214286</td>\n",
              "      <td>1154.0</td>\n",
              "      <td>41.214286</td>\n",
              "      <td>34.06</td>\n",
              "      <td>-118.45</td>\n",
              "      <td>5.00001</td>\n",
              "    </tr>\n",
              "    <tr>\n",
              "      <th>9172</th>\n",
              "      <td>4.2391</td>\n",
              "      <td>5.0</td>\n",
              "      <td>5.123810</td>\n",
              "      <td>0.933333</td>\n",
              "      <td>8733.0</td>\n",
              "      <td>83.171429</td>\n",
              "      <td>34.47</td>\n",
              "      <td>-118.59</td>\n",
              "      <td>1.54600</td>\n",
              "    </tr>\n",
              "    <tr>\n",
              "      <th>12104</th>\n",
              "      <td>1.6250</td>\n",
              "      <td>8.0</td>\n",
              "      <td>7.600000</td>\n",
              "      <td>0.950000</td>\n",
              "      <td>1275.0</td>\n",
              "      <td>63.750000</td>\n",
              "      <td>33.97</td>\n",
              "      <td>-117.33</td>\n",
              "      <td>1.62500</td>\n",
              "    </tr>\n",
              "    <tr>\n",
              "      <th>13034</th>\n",
              "      <td>6.1359</td>\n",
              "      <td>52.0</td>\n",
              "      <td>8.275862</td>\n",
              "      <td>1.517241</td>\n",
              "      <td>6675.0</td>\n",
              "      <td>230.172414</td>\n",
              "      <td>38.69</td>\n",
              "      <td>-121.15</td>\n",
              "      <td>2.25000</td>\n",
              "    </tr>\n",
              "    <tr>\n",
              "      <th>13366</th>\n",
              "      <td>4.2578</td>\n",
              "      <td>36.0</td>\n",
              "      <td>5.258824</td>\n",
              "      <td>1.117647</td>\n",
              "      <td>2886.0</td>\n",
              "      <td>33.952941</td>\n",
              "      <td>33.94</td>\n",
              "      <td>-117.63</td>\n",
              "      <td>1.83300</td>\n",
              "    </tr>\n",
              "    <tr>\n",
              "      <th>14756</th>\n",
              "      <td>2.5625</td>\n",
              "      <td>23.0</td>\n",
              "      <td>4.589091</td>\n",
              "      <td>1.069091</td>\n",
              "      <td>5176.0</td>\n",
              "      <td>18.821818</td>\n",
              "      <td>32.56</td>\n",
              "      <td>-116.97</td>\n",
              "      <td>1.53300</td>\n",
              "    </tr>\n",
              "    <tr>\n",
              "      <th>15790</th>\n",
              "      <td>4.3958</td>\n",
              "      <td>52.0</td>\n",
              "      <td>2.117647</td>\n",
              "      <td>0.926471</td>\n",
              "      <td>1061.0</td>\n",
              "      <td>15.602941</td>\n",
              "      <td>37.77</td>\n",
              "      <td>-122.40</td>\n",
              "      <td>2.25000</td>\n",
              "    </tr>\n",
              "    <tr>\n",
              "      <th>16420</th>\n",
              "      <td>5.7485</td>\n",
              "      <td>26.0</td>\n",
              "      <td>5.366667</td>\n",
              "      <td>0.900000</td>\n",
              "      <td>1542.0</td>\n",
              "      <td>51.400000</td>\n",
              "      <td>37.89</td>\n",
              "      <td>-121.29</td>\n",
              "      <td>1.62500</td>\n",
              "    </tr>\n",
              "    <tr>\n",
              "      <th>16643</th>\n",
              "      <td>1.0298</td>\n",
              "      <td>20.0</td>\n",
              "      <td>2.398467</td>\n",
              "      <td>0.812261</td>\n",
              "      <td>3574.0</td>\n",
              "      <td>13.693487</td>\n",
              "      <td>35.32</td>\n",
              "      <td>-120.65</td>\n",
              "      <td>3.00000</td>\n",
              "    </tr>\n",
              "    <tr>\n",
              "      <th>16669</th>\n",
              "      <td>4.2639</td>\n",
              "      <td>46.0</td>\n",
              "      <td>9.076923</td>\n",
              "      <td>1.307692</td>\n",
              "      <td>6532.0</td>\n",
              "      <td>502.461538</td>\n",
              "      <td>35.32</td>\n",
              "      <td>-120.70</td>\n",
              "      <td>3.50000</td>\n",
              "    </tr>\n",
              "    <tr>\n",
              "      <th>16672</th>\n",
              "      <td>1.6563</td>\n",
              "      <td>16.0</td>\n",
              "      <td>5.125000</td>\n",
              "      <td>0.937500</td>\n",
              "      <td>542.0</td>\n",
              "      <td>16.937500</td>\n",
              "      <td>35.34</td>\n",
              "      <td>-120.69</td>\n",
              "      <td>0.42500</td>\n",
              "    </tr>\n",
              "    <tr>\n",
              "      <th>18520</th>\n",
              "      <td>2.4732</td>\n",
              "      <td>14.0</td>\n",
              "      <td>4.445402</td>\n",
              "      <td>1.074713</td>\n",
              "      <td>4731.0</td>\n",
              "      <td>13.594828</td>\n",
              "      <td>37.00</td>\n",
              "      <td>-122.06</td>\n",
              "      <td>1.31300</td>\n",
              "    </tr>\n",
              "    <tr>\n",
              "      <th>19006</th>\n",
              "      <td>10.2264</td>\n",
              "      <td>45.0</td>\n",
              "      <td>3.166667</td>\n",
              "      <td>0.833333</td>\n",
              "      <td>7460.0</td>\n",
              "      <td>1243.333333</td>\n",
              "      <td>38.32</td>\n",
              "      <td>-121.98</td>\n",
              "      <td>1.37500</td>\n",
              "    </tr>\n",
              "    <tr>\n",
              "      <th>19435</th>\n",
              "      <td>0.5360</td>\n",
              "      <td>16.0</td>\n",
              "      <td>2.111111</td>\n",
              "      <td>2.111111</td>\n",
              "      <td>166.0</td>\n",
              "      <td>18.444444</td>\n",
              "      <td>37.67</td>\n",
              "      <td>-121.04</td>\n",
              "      <td>1.62500</td>\n",
              "    </tr>\n",
              "    <tr>\n",
              "      <th>19524</th>\n",
              "      <td>0.9573</td>\n",
              "      <td>19.0</td>\n",
              "      <td>2.951220</td>\n",
              "      <td>1.000000</td>\n",
              "      <td>658.0</td>\n",
              "      <td>16.048780</td>\n",
              "      <td>37.64</td>\n",
              "      <td>-121.00</td>\n",
              "      <td>1.62500</td>\n",
              "    </tr>\n",
              "    <tr>\n",
              "      <th>20121</th>\n",
              "      <td>3.1719</td>\n",
              "      <td>8.0</td>\n",
              "      <td>6.979221</td>\n",
              "      <td>1.285714</td>\n",
              "      <td>5087.0</td>\n",
              "      <td>13.212987</td>\n",
              "      <td>37.79</td>\n",
              "      <td>-120.45</td>\n",
              "      <td>1.15400</td>\n",
              "    </tr>\n",
              "    <tr>\n",
              "      <th>20352</th>\n",
              "      <td>4.0208</td>\n",
              "      <td>8.0</td>\n",
              "      <td>2.500000</td>\n",
              "      <td>0.625000</td>\n",
              "      <td>309.0</td>\n",
              "      <td>19.312500</td>\n",
              "      <td>34.22</td>\n",
              "      <td>-119.09</td>\n",
              "      <td>0.52500</td>\n",
              "    </tr>\n",
              "  </tbody>\n",
              "</table>\n",
              "</div>"
            ],
            "text/plain": [
              "        MedInc  HouseAge  AveRooms  ...  Latitude  Longitude  AvePropVal\n",
              "1039    4.3029      16.0  6.090592  ...     38.42    -120.97     1.21900\n",
              "3364    5.5179      36.0  5.142857  ...     40.41    -120.51     0.67500\n",
              "4479    3.5769      41.0  4.940000  ...     34.07    -118.16     1.35700\n",
              "5986    1.8750      52.0  4.500000  ...     34.10    -117.71     2.12500\n",
              "7164    2.1845      36.0  4.812155  ...     34.06    -118.17     1.23800\n",
              "8874    9.3370      52.0  7.285714  ...     34.06    -118.45     5.00001\n",
              "9172    4.2391       5.0  5.123810  ...     34.47    -118.59     1.54600\n",
              "12104   1.6250       8.0  7.600000  ...     33.97    -117.33     1.62500\n",
              "13034   6.1359      52.0  8.275862  ...     38.69    -121.15     2.25000\n",
              "13366   4.2578      36.0  5.258824  ...     33.94    -117.63     1.83300\n",
              "14756   2.5625      23.0  4.589091  ...     32.56    -116.97     1.53300\n",
              "15790   4.3958      52.0  2.117647  ...     37.77    -122.40     2.25000\n",
              "16420   5.7485      26.0  5.366667  ...     37.89    -121.29     1.62500\n",
              "16643   1.0298      20.0  2.398467  ...     35.32    -120.65     3.00000\n",
              "16669   4.2639      46.0  9.076923  ...     35.32    -120.70     3.50000\n",
              "16672   1.6563      16.0  5.125000  ...     35.34    -120.69     0.42500\n",
              "18520   2.4732      14.0  4.445402  ...     37.00    -122.06     1.31300\n",
              "19006  10.2264      45.0  3.166667  ...     38.32    -121.98     1.37500\n",
              "19435   0.5360      16.0  2.111111  ...     37.67    -121.04     1.62500\n",
              "19524   0.9573      19.0  2.951220  ...     37.64    -121.00     1.62500\n",
              "20121   3.1719       8.0  6.979221  ...     37.79    -120.45     1.15400\n",
              "20352   4.0208       8.0  2.500000  ...     34.22    -119.09     0.52500\n",
              "\n",
              "[22 rows x 9 columns]"
            ]
          },
          "metadata": {},
          "execution_count": 11
        }
      ]
    },
    {
      "cell_type": "code",
      "metadata": {
        "colab": {
          "base_uri": "https://localhost:8080/",
          "height": 282
        },
        "id": "8QMXTCoXqLyR",
        "outputId": "a9a3a3da-b0cd-4e79-b19f-088d6e7b07ad"
      },
      "source": [
        "data_df.AveOccup[data_df['AveOccup']<=13].hist()"
      ],
      "execution_count": 12,
      "outputs": [
        {
          "output_type": "execute_result",
          "data": {
            "text/plain": [
              "<matplotlib.axes._subplots.AxesSubplot at 0x7fe9f989bb10>"
            ]
          },
          "metadata": {},
          "execution_count": 12
        },
        {
          "output_type": "display_data",
          "data": {
            "image/png": "[encoded data removed]",
            "text/plain": [
              "<Figure size 432x288 with 1 Axes>"
            ]
          },
          "metadata": {
            "needs_background": "light"
          }
        }
      ]
    },
    {
      "cell_type": "code",
      "metadata": {
        "colab": {
          "base_uri": "https://localhost:8080/",
          "height": 1000
        },
        "id": "89Z1J1j4T1nI",
        "outputId": "079b9d49-4ec7-448b-cb70-a5773d185a94"
      },
      "source": [
        "# check histograms for all features\n",
        "data_df.hist(bins=50, figsize=(15,15))"
      ],
      "execution_count": 13,
      "outputs": [
        {
          "output_type": "execute_result",
          "data": {
            "text/plain": [
              "array([[<matplotlib.axes._subplots.AxesSubplot object at 0x7fe9f8109950>,\n",
              "        <matplotlib.axes._subplots.AxesSubplot object at 0x7fe9f80b3f90>,\n",
              "        <matplotlib.axes._subplots.AxesSubplot object at 0x7fe9f8077450>],\n",
              "       [<matplotlib.axes._subplots.AxesSubplot object at 0x7fe9f80ab950>,\n",
              "        <matplotlib.axes._subplots.AxesSubplot object at 0x7fe9f8061e50>,\n",
              "        <matplotlib.axes._subplots.AxesSubplot object at 0x7fe9f8025390>],\n",
              "       [<matplotlib.axes._subplots.AxesSubplot object at 0x7fe9f7fda910>,\n",
              "        <matplotlib.axes._subplots.AxesSubplot object at 0x7fe9f7f8ed50>,\n",
              "        <matplotlib.axes._subplots.AxesSubplot object at 0x7fe9f7f8ed90>]],\n",
              "      dtype=object)"
            ]
          },
          "metadata": {},
          "execution_count": 13
        },
        {
          "output_type": "display_data",
          "data": {
            "image/png": "[encoded data removed]",
            "text/plain": [
              "<Figure size 1080x1080 with 9 Axes>"
            ]
          },
          "metadata": {
            "needs_background": "light"
          }
        }
      ]
    },
    {
      "cell_type": "code",
      "metadata": {
        "colab": {
          "base_uri": "https://localhost:8080/",
          "height": 802
        },
        "id": "OLZRj3RPqL0y",
        "outputId": "eb2aa867-e093-4d43-ce42-5e1758b3859a"
      },
      "source": [
        "from pandas.plotting import scatter_matrix\n",
        "attributes = ['HouseAge', 'MedInc', 'AveRooms', 'AveOccup']\n",
        "scatter_matrix(data_df[attributes], figsize=(12, 8))"
      ],
      "execution_count": 14,
      "outputs": [
        {
          "output_type": "execute_result",
          "data": {
            "text/plain": [
              "array([[<matplotlib.axes._subplots.AxesSubplot object at 0x7fe9f787ba90>,\n",
              "        <matplotlib.axes._subplots.AxesSubplot object at 0x7fe9f7812350>,\n",
              "        <matplotlib.axes._subplots.AxesSubplot object at 0x7fe9f77bb110>,\n",
              "        <matplotlib.axes._subplots.AxesSubplot object at 0x7fe9f77d8610>],\n",
              "       [<matplotlib.axes._subplots.AxesSubplot object at 0x7fe9f778db10>,\n",
              "        <matplotlib.axes._subplots.AxesSubplot object at 0x7fe9f7743fd0>,\n",
              "        <matplotlib.axes._subplots.AxesSubplot object at 0x7fe9f77045d0>,\n",
              "        <matplotlib.axes._subplots.AxesSubplot object at 0x7fe9f76baa10>],\n",
              "       [<matplotlib.axes._subplots.AxesSubplot object at 0x7fe9f76baa50>,\n",
              "        <matplotlib.axes._subplots.AxesSubplot object at 0x7fe9f767d090>,\n",
              "        <matplotlib.axes._subplots.AxesSubplot object at 0x7fe9f7669990>,\n",
              "        <matplotlib.axes._subplots.AxesSubplot object at 0x7fe9f7621e90>],\n",
              "       [<matplotlib.axes._subplots.AxesSubplot object at 0x7fe9f75e13d0>,\n",
              "        <matplotlib.axes._subplots.AxesSubplot object at 0x7fe9f75978d0>,\n",
              "        <matplotlib.axes._subplots.AxesSubplot object at 0x7fe9f754fdd0>,\n",
              "        <matplotlib.axes._subplots.AxesSubplot object at 0x7fe9f7511310>]],\n",
              "      dtype=object)"
            ]
          },
          "metadata": {},
          "execution_count": 14
        },
        {
          "output_type": "display_data",
          "data": {
            "image/png": "[encoded data removed]",
            "text/plain": [
              "<Figure size 864x576 with 16 Axes>"
            ]
          },
          "metadata": {
            "needs_background": "light"
          }
        }
      ]
    },
    {
      "cell_type": "code",
      "metadata": {
        "colab": {
          "base_uri": "https://localhost:8080/",
          "height": 351
        },
        "id": "29A1Ub0fUkr-",
        "outputId": "3d64ddd6-fe04-47b3-f6c0-397bc11da42d"
      },
      "source": [
        "data_df.plot(kind='scatter', x='Population', y='AvePropVal', alpha=0.1, figsize=(8,5))"
      ],
      "execution_count": 15,
      "outputs": [
        {
          "output_type": "execute_result",
          "data": {
            "text/plain": [
              "<matplotlib.axes._subplots.AxesSubplot at 0x7fe9f73c4410>"
            ]
          },
          "metadata": {},
          "execution_count": 15
        },
        {
          "output_type": "display_data",
          "data": {
            "image/png": "[encoded data removed]",
            "text/plain": [
              "<Figure size 576x360 with 1 Axes>"
            ]
          },
          "metadata": {
            "needs_background": "light"
          }
        }
      ]
    },
    {
      "cell_type": "markdown",
      "metadata": {
        "id": "22SWkdxlVJ4p"
      },
      "source": [
        "**Split the data**"
      ]
    },
    {
      "cell_type": "code",
      "metadata": {
        "id": "6yfbAlbDVL8H"
      },
      "source": [
        "from sklearn.model_selection import train_test_split\n",
        "x_train, x_test, y_train, y_test  = train_test_split(dataset.data, dataset.target, test_size=0.30, random_state=42)"
      ],
      "execution_count": 16,
      "outputs": []
    },
    {
      "cell_type": "code",
      "metadata": {
        "colab": {
          "base_uri": "https://localhost:8080/"
        },
        "id": "LYIyLHIwVfXt",
        "outputId": "31c02069-1277-4b86-9970-7891fb90384c"
      },
      "source": [
        "# fist classifier\n",
        "from sklearn.neural_network import MLPRegressor\n",
        "clf = MLPRegressor(solver='lbfgs',        #  ‘lbfgs’, ‘sgd’, ‘adam’ (default)\n",
        "                   alpha=1e-5,            # used for regularization, ovoiding overfitting by penalizing large magnitudes\n",
        "                   hidden_layer_sizes=(10, 2), \n",
        "                   activation='logistic', # ‘identity’, ‘logistic’, ‘tanh’, ‘relu’ (default)\n",
        "                   max_iter=10000,\n",
        "                   random_state=42)\n",
        "clf.fit(x_train, y_train)\n",
        "clf.predict(x_train)"
      ],
      "execution_count": 17,
      "outputs": [
        {
          "output_type": "execute_result",
          "data": {
            "text/plain": [
              "array([1.9822852 , 1.97020516, 2.10175362, ..., 1.69565848, 2.31984707,\n",
              "       2.61633106])"
            ]
          },
          "metadata": {},
          "execution_count": 17
        }
      ]
    },
    {
      "cell_type": "markdown",
      "metadata": {
        "id": "yc3WGpKCcvAj"
      },
      "source": [
        "\n",
        "Parameters:\n",
        "\n",
        "1. activation{‘identity’, ‘logistic’, ‘tanh’, ‘relu’}, default=’relu’ Activation function for the hidden layer.\n",
        "* ‘identity’, no-op activation, useful to implement linear bottleneck, returns f(x) = x\n",
        "* ‘logistic’, the logistic sigmoid function, returns f(x) = 1 / (1 + exp(-x))\n",
        "* ‘tanh’, the hyperbolic tan function, returns f(x) = tanh(x).\n",
        "* ‘relu’, the rectified linear unit function, returns f(x) = max(0, x)\n",
        "\n",
        "2. solver{‘lbfgs’, ‘sgd’, ‘adam’}, default=’adam’ The solver for weight optimization.\n",
        "* ‘lbfgs’ is an optimizer in the family of quasi-Newton methods.\n",
        "* ‘sgd’ refers to stochastic gradient descent.\n",
        "* ‘adam’ refers to a stochastic gradient-based optimizer.\n",
        "\n",
        "Note: The default solver ‘adam’ works pretty well on relatively large datasets (with thousands of training samples or more) in terms of both training time and validation score. For small datasets, however, ‘lbfgs’ can converge faster and perform better."
      ]
    },
    {
      "cell_type": "markdown",
      "metadata": {
        "id": "ls8HW3yZe6i7"
      },
      "source": [
        "# Data Preprocessing"
      ]
    },
    {
      "cell_type": "code",
      "metadata": {
        "colab": {
          "base_uri": "https://localhost:8080/"
        },
        "id": "0oZaBq9Ke846",
        "outputId": "177d520a-d234-439c-e578-2772fce3b1b7"
      },
      "source": [
        "# remove outliers\n",
        "max_ave_rooms = 12\n",
        "# column with index 2 corresponds to average number of rooms\n",
        "shape = dataset.data.shape\n",
        "cleansed_shape = dataset.data[dataset.data[:,2] <= max_ave_rooms].shape\n",
        "print(shape, cleansed_shape)\n",
        "n_outliers = shape[0]-cleansed_shape[0]\n",
        "print(f\"Number of outliers, more than {max_ave_rooms} bedrooms: {n_outliers}\")"
      ],
      "execution_count": 18,
      "outputs": [
        {
          "output_type": "stream",
          "name": "stdout",
          "text": [
            "(20640, 8) (20495, 8)\n",
            "Number of outliers, more than 12 bedrooms: 145\n"
          ]
        }
      ]
    },
    {
      "cell_type": "code",
      "metadata": {
        "colab": {
          "base_uri": "https://localhost:8080/"
        },
        "id": "-v82fhQxe9D5",
        "outputId": "cdd64fa1-e193-4680-9387-0fa2488ac9c8"
      },
      "source": [
        "# remove all data with an average number of rooms greater than max_ave_rooms:\n",
        "x = dataset.data[:,2] <= max_ave_rooms  # Boolean array\n",
        "data = dataset.data[x]\n",
        "targets = dataset.target[x]\n",
        "data.shape, targets.shape"
      ],
      "execution_count": 19,
      "outputs": [
        {
          "output_type": "execute_result",
          "data": {
            "text/plain": [
              "((20495, 8), (20495,))"
            ]
          },
          "metadata": {},
          "execution_count": 19
        }
      ]
    },
    {
      "cell_type": "code",
      "metadata": {
        "colab": {
          "base_uri": "https://localhost:8080/",
          "height": 320
        },
        "id": "2MyI7wzOe9JI",
        "outputId": "8b9c3e64-2056-4653-a66d-01294f901e45"
      },
      "source": [
        "# look at the statistics for each feature:\n",
        "data_df.describe()"
      ],
      "execution_count": 20,
      "outputs": [
        {
          "output_type": "execute_result",
          "data": {
            "text/html": [
              "<div>\n",
              "<style scoped>\n",
              "    .dataframe tbody tr th:only-of-type {\n",
              "        vertical-align: middle;\n",
              "    }\n",
              "\n",
              "    .dataframe tbody tr th {\n",
              "        vertical-align: top;\n",
              "    }\n",
              "\n",
              "    .dataframe thead th {\n",
              "        text-align: right;\n",
              "    }\n",
              "</style>\n",
              "<table border=\"1\" class=\"dataframe\">\n",
              "  <thead>\n",
              "    <tr style=\"text-align: right;\">\n",
              "      <th></th>\n",
              "      <th>MedInc</th>\n",
              "      <th>HouseAge</th>\n",
              "      <th>AveRooms</th>\n",
              "      <th>AveBedrms</th>\n",
              "      <th>Population</th>\n",
              "      <th>AveOccup</th>\n",
              "      <th>Latitude</th>\n",
              "      <th>Longitude</th>\n",
              "      <th>AvePropVal</th>\n",
              "    </tr>\n",
              "  </thead>\n",
              "  <tbody>\n",
              "    <tr>\n",
              "      <th>count</th>\n",
              "      <td>20495.000000</td>\n",
              "      <td>20495.000000</td>\n",
              "      <td>20495.000000</td>\n",
              "      <td>20495.000000</td>\n",
              "      <td>20495.000000</td>\n",
              "      <td>20495.000000</td>\n",
              "      <td>20495.000000</td>\n",
              "      <td>20495.000000</td>\n",
              "      <td>20495.000000</td>\n",
              "    </tr>\n",
              "    <tr>\n",
              "      <th>mean</th>\n",
              "      <td>3.870574</td>\n",
              "      <td>28.715540</td>\n",
              "      <td>5.297038</td>\n",
              "      <td>1.069902</td>\n",
              "      <td>1432.511979</td>\n",
              "      <td>3.074511</td>\n",
              "      <td>35.621918</td>\n",
              "      <td>-119.573349</td>\n",
              "      <td>2.071016</td>\n",
              "    </tr>\n",
              "    <tr>\n",
              "      <th>std</th>\n",
              "      <td>1.898052</td>\n",
              "      <td>12.575564</td>\n",
              "      <td>1.274305</td>\n",
              "      <td>0.143758</td>\n",
              "      <td>1132.726950</td>\n",
              "      <td>10.422249</td>\n",
              "      <td>2.130666</td>\n",
              "      <td>2.003646</td>\n",
              "      <td>1.154817</td>\n",
              "    </tr>\n",
              "    <tr>\n",
              "      <th>min</th>\n",
              "      <td>0.499900</td>\n",
              "      <td>1.000000</td>\n",
              "      <td>0.846154</td>\n",
              "      <td>0.333333</td>\n",
              "      <td>3.000000</td>\n",
              "      <td>0.750000</td>\n",
              "      <td>32.540000</td>\n",
              "      <td>-124.350000</td>\n",
              "      <td>0.149990</td>\n",
              "    </tr>\n",
              "    <tr>\n",
              "      <th>25%</th>\n",
              "      <td>2.562500</td>\n",
              "      <td>18.000000</td>\n",
              "      <td>4.434997</td>\n",
              "      <td>1.005747</td>\n",
              "      <td>793.000000</td>\n",
              "      <td>2.432727</td>\n",
              "      <td>33.930000</td>\n",
              "      <td>-121.800000</td>\n",
              "      <td>1.198000</td>\n",
              "    </tr>\n",
              "    <tr>\n",
              "      <th>50%</th>\n",
              "      <td>3.534700</td>\n",
              "      <td>29.000000</td>\n",
              "      <td>5.219585</td>\n",
              "      <td>1.048128</td>\n",
              "      <td>1171.000000</td>\n",
              "      <td>2.823322</td>\n",
              "      <td>34.250000</td>\n",
              "      <td>-118.490000</td>\n",
              "      <td>1.801000</td>\n",
              "    </tr>\n",
              "    <tr>\n",
              "      <th>75%</th>\n",
              "      <td>4.744800</td>\n",
              "      <td>37.000000</td>\n",
              "      <td>6.027555</td>\n",
              "      <td>1.098000</td>\n",
              "      <td>1729.000000</td>\n",
              "      <td>3.285983</td>\n",
              "      <td>37.710000</td>\n",
              "      <td>-118.010000</td>\n",
              "      <td>2.652000</td>\n",
              "    </tr>\n",
              "    <tr>\n",
              "      <th>max</th>\n",
              "      <td>15.000100</td>\n",
              "      <td>52.000000</td>\n",
              "      <td>11.901869</td>\n",
              "      <td>3.411111</td>\n",
              "      <td>35682.000000</td>\n",
              "      <td>1243.333333</td>\n",
              "      <td>41.950000</td>\n",
              "      <td>-114.310000</td>\n",
              "      <td>5.000010</td>\n",
              "    </tr>\n",
              "  </tbody>\n",
              "</table>\n",
              "</div>"
            ],
            "text/plain": [
              "             MedInc      HouseAge  ...     Longitude    AvePropVal\n",
              "count  20495.000000  20495.000000  ...  20495.000000  20495.000000\n",
              "mean       3.870574     28.715540  ...   -119.573349      2.071016\n",
              "std        1.898052     12.575564  ...      2.003646      1.154817\n",
              "min        0.499900      1.000000  ...   -124.350000      0.149990\n",
              "25%        2.562500     18.000000  ...   -121.800000      1.198000\n",
              "50%        3.534700     29.000000  ...   -118.490000      1.801000\n",
              "75%        4.744800     37.000000  ...   -118.010000      2.652000\n",
              "max       15.000100     52.000000  ...   -114.310000      5.000010\n",
              "\n",
              "[8 rows x 9 columns]"
            ]
          },
          "metadata": {},
          "execution_count": 20
        }
      ]
    },
    {
      "cell_type": "code",
      "metadata": {
        "colab": {
          "base_uri": "https://localhost:8080/"
        },
        "id": "XFBkz2Yke9Lq",
        "outputId": "666849d7-d239-43e6-afd5-057f03f2a7fe"
      },
      "source": [
        "# remove all data with an average number of occup greater than 10:\n",
        "x = data[:,5] <= 10   # AveOccup\n",
        "data = data[x]\n",
        "targets = targets[x]\n",
        "data.shape, targets.shape"
      ],
      "execution_count": 21,
      "outputs": [
        {
          "output_type": "execute_result",
          "data": {
            "text/plain": [
              "((20459, 8), (20459,))"
            ]
          },
          "metadata": {},
          "execution_count": 21
        }
      ]
    },
    {
      "cell_type": "code",
      "metadata": {
        "colab": {
          "base_uri": "https://localhost:8080/"
        },
        "id": "j5pAePcAe9N4",
        "outputId": "d7cf2bb4-3f23-4e8e-be11-0794127d5d26"
      },
      "source": [
        "# check average bedrooms\n",
        "import numpy as np\n",
        "np.min(data[:,3]), np.max(data[:,3])\n",
        "\n",
        "# The outliers for this feature have already removed due to the previous cleaning actions."
      ],
      "execution_count": 22,
      "outputs": [
        {
          "output_type": "execute_result",
          "data": {
            "text/plain": [
              "(0.3333333333333333, 3.411111111111111)"
            ]
          },
          "metadata": {},
          "execution_count": 22
        }
      ]
    },
    {
      "cell_type": "code",
      "metadata": {
        "colab": {
          "base_uri": "https://localhost:8080/"
        },
        "id": "I-lTKywVUv5f",
        "outputId": "96b76ae6-7781-4a49-db04-679a6663fe6c"
      },
      "source": [
        "# another try on classification\n",
        "# cleaned data\n",
        "x_train, x_test, y_train, y_test = train_test_split(data, targets, test_size=0.30, random_state=42)\n",
        "# original data\n",
        "x_train2, x_test2, y_train2, y_test2 = train_test_split(dataset.data, dataset.target, test_size=0.30, random_state=42)\n",
        "print(data.shape)\n",
        "print()\n",
        "print(x_train.shape, x_train2.shape)"
      ],
      "execution_count": 23,
      "outputs": [
        {
          "output_type": "stream",
          "name": "stdout",
          "text": [
            "(20459, 8)\n",
            "\n",
            "(14321, 8) (14448, 8)\n"
          ]
        }
      ]
    },
    {
      "cell_type": "code",
      "metadata": {
        "colab": {
          "base_uri": "https://localhost:8080/"
        },
        "id": "2Kz1CpT3jqUx",
        "outputId": "177bda1d-61c4-4de2-8cc8-6d17fba7c09a"
      },
      "source": [
        "clf = MLPRegressor(solver='lbfgs',        #  ‘lbfgs’, ‘sgd’, ‘adam’ (default)\n",
        "                   alpha=1e-5,            # used for regularization, ovoiding overfitting by penalizing large magnitudes\n",
        "                   hidden_layer_sizes=(10, 2), \n",
        "                   activation='logistic', # ‘identity’, ‘logistic’, ‘tanh’, ‘relu’ (default)\n",
        "                   max_iter=10000,\n",
        "                   random_state=42)\n",
        "clf.fit(x_train, y_train)\n",
        "print(clf.score(x_train, y_train))\n",
        "print(clf.score(x_test, y_test))"
      ],
      "execution_count": 24,
      "outputs": [
        {
          "output_type": "stream",
          "name": "stdout",
          "text": [
            "0.6528592619664814\n",
            "0.6420348600496\n"
          ]
        }
      ]
    },
    {
      "cell_type": "code",
      "metadata": {
        "colab": {
          "base_uri": "https://localhost:8080/"
        },
        "id": "kLkvQxLemGN6",
        "outputId": "96ea1fa9-b16e-4dde-a328-c4ebdc791da2"
      },
      "source": [
        "# uncleansed data gives us slightly worse results:\n",
        "clf.fit(x_train2, y_train2)\n",
        "print(clf.score(x_train2, y_train2))\n",
        "print(clf.score(x_test2, y_test2))"
      ],
      "execution_count": 25,
      "outputs": [
        {
          "output_type": "stream",
          "name": "stdout",
          "text": [
            "0.6511809461046495\n",
            "0.6445393231359735\n"
          ]
        }
      ]
    },
    {
      "cell_type": "markdown",
      "metadata": {
        "id": "ITCGLSspnP6D"
      },
      "source": [
        "**Scaling the data**"
      ]
    },
    {
      "cell_type": "code",
      "metadata": {
        "colab": {
          "base_uri": "https://localhost:8080/"
        },
        "id": "VL5Ix0lwnMj4",
        "outputId": "74d7fda6-35d9-4b39-ace3-6af5ad2c19a8"
      },
      "source": [
        "# As the data varies a lot in magnitude, we can or should scale the data:\n",
        "from sklearn import preprocessing\n",
        "data_scaled = preprocessing.scale(data)\n",
        "data_scaled.shape"
      ],
      "execution_count": 30,
      "outputs": [
        {
          "output_type": "execute_result",
          "data": {
            "text/plain": [
              "(20459, 8)"
            ]
          },
          "metadata": {},
          "execution_count": 30
        }
      ]
    },
    {
      "cell_type": "code",
      "metadata": {
        "colab": {
          "base_uri": "https://localhost:8080/"
        },
        "id": "tMMGHjNm9lhU",
        "outputId": "7fe0a75b-9e82-40e2-a4fc-ad8bea85023e"
      },
      "source": [
        "data_scaled[:5]"
      ],
      "execution_count": 32,
      "outputs": [
        {
          "output_type": "execute_result",
          "data": {
            "text/plain": [
              "array([[ 2.35060892,  0.97741648,  1.32614432, -0.32120816, -0.98212191,\n",
              "        -0.47819706,  1.06028422, -1.32627682],\n",
              "       [ 2.33805042, -0.61364072,  0.73967535, -0.68360646,  0.86018141,\n",
              "        -1.06008696,  1.05089666, -1.32128549],\n",
              "       [ 1.78716513,  1.85249794,  2.35130642,  0.02519331, -0.82793203,\n",
              "        -0.15611866,  1.04620287, -1.33126814],\n",
              "       [ 0.93535084,  1.85249794,  0.40886977,  0.02249278, -0.7729908 ,\n",
              "        -0.48813255,  1.04620287, -1.33625946],\n",
              "       [-0.01281562,  1.85249794,  0.77404337,  0.07847414, -0.76678776,\n",
              "        -0.96657835,  1.04620287, -1.33625946]])"
            ]
          },
          "metadata": {},
          "execution_count": 32
        }
      ]
    },
    {
      "cell_type": "code",
      "metadata": {
        "colab": {
          "base_uri": "https://localhost:8080/"
        },
        "id": "TEUxYl9b9m8c",
        "outputId": "f863303f-c48f-48d5-c44d-f14c96096ab0"
      },
      "source": [
        "data[:5]"
      ],
      "execution_count": 27,
      "outputs": [
        {
          "output_type": "execute_result",
          "data": {
            "text/plain": [
              "array([[ 8.32520000e+00,  4.10000000e+01,  6.98412698e+00,\n",
              "         1.02380952e+00,  3.22000000e+02,  2.55555556e+00,\n",
              "         3.78800000e+01, -1.22230000e+02],\n",
              "       [ 8.30140000e+00,  2.10000000e+01,  6.23813708e+00,\n",
              "         9.71880492e-01,  2.40100000e+03,  2.10984183e+00,\n",
              "         3.78600000e+01, -1.22220000e+02],\n",
              "       [ 7.25740000e+00,  5.20000000e+01,  8.28813559e+00,\n",
              "         1.07344633e+00,  4.96000000e+02,  2.80225989e+00,\n",
              "         3.78500000e+01, -1.22240000e+02],\n",
              "       [ 5.64310000e+00,  5.20000000e+01,  5.81735160e+00,\n",
              "         1.07305936e+00,  5.58000000e+02,  2.54794521e+00,\n",
              "         3.78500000e+01, -1.22250000e+02],\n",
              "       [ 3.84620000e+00,  5.20000000e+01,  6.28185328e+00,\n",
              "         1.08108108e+00,  5.65000000e+02,  2.18146718e+00,\n",
              "         3.78500000e+01, -1.22250000e+02]])"
            ]
          },
          "metadata": {},
          "execution_count": 27
        }
      ]
    },
    {
      "cell_type": "markdown",
      "metadata": {
        "id": "bOgIIxmy987U"
      },
      "source": [
        "**Generating Polynomial Features**"
      ]
    },
    {
      "cell_type": "code",
      "metadata": {
        "id": "lJ5Abx6c9pr_"
      },
      "source": [
        "import numpy as np\n",
        "from sklearn.preprocessing import PolynomialFeatures"
      ],
      "execution_count": 33,
      "outputs": []
    },
    {
      "cell_type": "markdown",
      "metadata": {
        "id": "YgpHe5kx-aEi"
      },
      "source": [
        "PolynomialFeatures does the following: Generate a new feature matrix consisting of all polynomial combinations of the features with degree less than or equal to the specified degree."
      ]
    },
    {
      "cell_type": "code",
      "metadata": {
        "colab": {
          "base_uri": "https://localhost:8080/"
        },
        "id": "4H1DVAQC-jSO",
        "outputId": "69b9bb14-fd7e-4ac5-b5d9-50979b273bc7"
      },
      "source": [
        "X = np.arange(6).reshape(3, 2)\n",
        "print(X)\n",
        "poly = PolynomialFeatures(degree=2)\n",
        "poly.fit_transform(X)"
      ],
      "execution_count": 40,
      "outputs": [
        {
          "output_type": "stream",
          "name": "stdout",
          "text": [
            "[[0 1]\n",
            " [2 3]\n",
            " [4 5]]\n"
          ]
        },
        {
          "output_type": "execute_result",
          "data": {
            "text/plain": [
              "array([[ 1.,  0.,  1.,  0.,  0.,  1.],\n",
              "       [ 1.,  2.,  3.,  4.,  6.,  9.],\n",
              "       [ 1.,  4.,  5., 16., 20., 25.]])"
            ]
          },
          "metadata": {},
          "execution_count": 40
        }
      ]
    },
    {
      "cell_type": "code",
      "metadata": {
        "colab": {
          "base_uri": "https://localhost:8080/"
        },
        "id": "yvNTJyMf_roa",
        "outputId": "aa7f8236-1414-4a04-c216-21ad4c3ed9f3"
      },
      "source": [
        "# If the interaction_only parameter is set to True, only interaction features are produced:\n",
        "poly = PolynomialFeatures(interaction_only=True)\n",
        "poly.fit_transform(X)"
      ],
      "execution_count": 41,
      "outputs": [
        {
          "output_type": "execute_result",
          "data": {
            "text/plain": [
              "array([[ 1.,  0.,  1.,  0.],\n",
              "       [ 1.,  2.,  3.,  6.],\n",
              "       [ 1.,  4.,  5., 20.]])"
            ]
          },
          "metadata": {},
          "execution_count": 41
        }
      ]
    },
    {
      "cell_type": "code",
      "metadata": {
        "colab": {
          "base_uri": "https://localhost:8080/"
        },
        "id": "H9MiVKV0BKnZ",
        "outputId": "fabde594-ba8e-41eb-f463-57ce397b00c4"
      },
      "source": [
        "# GET BACK TO OUR DATA:\n",
        "pft = PolynomialFeatures(degree=2)\n",
        "data_poly = pft.fit_transform(data_scaled)\n",
        "data_poly"
      ],
      "execution_count": 42,
      "outputs": [
        {
          "output_type": "execute_result",
          "data": {
            "text/plain": [
              "array([[ 1.        ,  2.35060892,  0.97741648, ...,  1.12420263,\n",
              "        -1.40623038,  1.7590102 ],\n",
              "       [ 1.        ,  2.33805042, -0.61364072, ...,  1.10438378,\n",
              "        -1.38853451,  1.74579536],\n",
              "       [ 1.        ,  1.78716513,  1.85249794, ...,  1.09454046,\n",
              "        -1.39277656,  1.77227486],\n",
              "       ...,\n",
              "       [ 1.        , -1.14529647, -0.93185216, ...,  3.19630178,\n",
              "        -1.46986232,  0.67593593],\n",
              "       [ 1.        , -1.0570704 , -0.8522993 , ...,  3.19630178,\n",
              "        -1.5590982 ,  0.7604999 ],\n",
              "       [ 1.        , -0.78194435, -1.01140502, ...,  3.09639525,\n",
              "        -1.46427431,  0.69245011]])"
            ]
          },
          "metadata": {},
          "execution_count": 42
        }
      ]
    },
    {
      "cell_type": "code",
      "metadata": {
        "id": "2rNUGhH7Bkyg"
      },
      "source": [
        "from sklearn.model_selection import train_test_split\n",
        "x_train, x_test, y_train, y_test = train_test_split(data_poly, targets, test_size=0.30, random_state=42)"
      ],
      "execution_count": 43,
      "outputs": []
    },
    {
      "cell_type": "code",
      "metadata": {
        "colab": {
          "base_uri": "https://localhost:8080/"
        },
        "id": "qQ9D2E5nB7fa",
        "outputId": "4fff12df-fdd6-4abd-d2a8-a0f7b883fdae"
      },
      "source": [
        "clf.fit(x_train, y_train)\n",
        "print(clf.score(x_train, y_train))\n",
        "print(clf.score(x_test, y_test))"
      ],
      "execution_count": 44,
      "outputs": [
        {
          "output_type": "stream",
          "name": "stdout",
          "text": [
            "0.8400729072769798\n",
            "0.7656347407520135\n"
          ]
        }
      ]
    },
    {
      "cell_type": "code",
      "metadata": {
        "colab": {
          "base_uri": "https://localhost:8080/"
        },
        "id": "jbdKcsMYCafx",
        "outputId": "5d1d0d63-8f38-4d26-be58-4f201481ea8d"
      },
      "source": [
        "clf.predict(x_train)"
      ],
      "execution_count": 45,
      "outputs": [
        {
          "output_type": "execute_result",
          "data": {
            "text/plain": [
              "array([2.75439798, 2.44334503, 1.99837558, ..., 2.34342763, 3.03897699,\n",
              "       2.36477434])"
            ]
          },
          "metadata": {},
          "execution_count": 45
        }
      ]
    },
    {
      "cell_type": "code",
      "metadata": {
        "colab": {
          "base_uri": "https://localhost:8080/"
        },
        "id": "7vjkZz_mCaiI",
        "outputId": "a5f7270e-9169-4b1c-dfe1-889ddfb59a4b"
      },
      "source": [
        "y_train"
      ],
      "execution_count": 46,
      "outputs": [
        {
          "output_type": "execute_result",
          "data": {
            "text/plain": [
              "array([2.109, 2.257, 1.508, ..., 3.1  , 2.825, 2.42 ])"
            ]
          },
          "metadata": {},
          "execution_count": 46
        }
      ]
    },
    {
      "cell_type": "code",
      "metadata": {
        "id": "p_Eg-JIQCakx"
      },
      "source": [
        ""
      ],
      "execution_count": null,
      "outputs": []
    }
  ]
}